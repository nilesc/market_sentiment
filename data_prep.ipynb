{
 "cells": [
  {
   "cell_type": "code",
   "execution_count": 1,
   "metadata": {},
   "outputs": [],
   "source": [
    "import pandas as pd\n",
    "import numpy as np\n",
    "\n",
    "finance_data = pd.read_csv('finance-data/finance-data.csv')"
   ]
  },
  {
   "cell_type": "code",
   "execution_count": 2,
   "metadata": {},
   "outputs": [],
   "source": [
    "# Returns the intraday percentage change in stock price\n",
    "def get_daily_percent_change(company):\n",
    "    finance_data = pd.read_csv('finance-data/finance-data.csv').values\n",
    "    company = finance_data[np.where(finance_data[:,7] == company)]\n",
    "    dates = company[:,0]\n",
    "    percent_change = (company[:,4]-company[:,1])/company[:,1]\n",
    "    final = np.zeros((len(percent_change),2),dtype=object)\n",
    "    final[:,0] = dates\n",
    "    final[:,1] = percent_change\n",
    "    return final\n",
    "\n",
    "# Returns the interday percentage change in stock price\n",
    "def get_overnight_percent_change(company):\n",
    "    finance_data = pd.read_csv('finance-data/finance-data.csv').values\n",
    "    company = finance_data[np.where(finance_data[:,7] == company)]\n",
    "    dates = company[:,0]\n",
    "    company = company[:,4]\n",
    "    percent_change = np.zeros((company.shape[0],))\n",
    "    percent_change[0] = 0\n",
    "    for i in range(1,len(company)):\n",
    "        percent_change[i] = (company[i]-company[i-1])/company[i-1]\n",
    "    final = np.zeros((len(percent_change),2),dtype=object)\n",
    "    final[:,0] = dates\n",
    "    final[:,1] = percent_change\n",
    "    return final"
   ]
  },
  {
   "cell_type": "code",
   "execution_count": 3,
   "metadata": {},
   "outputs": [],
   "source": [
    "positive_emojis = eval(open('positive.emoji','r').readline())\n",
    "negative_emojis = eval(open('negative.emoji','r').readline())\n",
    "\n",
    "def convert_to_date(date):\n",
    "    return date.split(' ')[0]\n",
    "\n",
    "# Determines if an emoji is positively sentimented\n",
    "def is_positive(emoji):\n",
    "    for emo in positive_emojis:\n",
    "        if emo in emoji:\n",
    "            return True\n",
    "    return False\n",
    "\n",
    "# Determines if an emoji is negtively sentimented \n",
    "def is_negative(emoji):\n",
    "    for emo in negative_emojis:\n",
    "        if emo in emoji:\n",
    "            return True\n",
    "    return False\n",
    "\n",
    "# Calculates the sentiment of a tweet\n",
    "def calculate_sentiment(emojis):\n",
    "    emojis = emojis.split(',')\n",
    "    emojis = [emoji.encode() for emoji in emojis]\n",
    "    sentiment = [0 for i in range(len(emojis))]\n",
    "    for emoji in emojis:\n",
    "        if is_positive(emoji):\n",
    "            sentiment[emojis.index(emoji)] = 1\n",
    "        elif is_negative(emoji):\n",
    "            sentiment[emojis.index(emoji)] = -1\n",
    "    return np.mean(np.array(sentiment))\n",
    "\n",
    "# Converts the twitter data into sentiment scores for analysis\n",
    "def get_twitter_data(company):\n",
    "    twitter_data = pd.read_csv('twitter-data/{}.csv'.format(company))\n",
    "    twitter_data['date'] = twitter_data['date'].apply(convert_to_date)\n",
    "    twitter_data['emojis'] = twitter_data['emojis'].apply(calculate_sentiment)\n",
    "    final = np.zeros((len(twitter_data),2),dtype=object)\n",
    "    final[:,0] = twitter_data['date'].values\n",
    "    final[:,1] = twitter_data['emojis'].values\n",
    "    return final\n"
   ]
  },
  {
   "cell_type": "code",
   "execution_count": 4,
   "metadata": {},
   "outputs": [],
   "source": [
    "# Extracts the daily sentiment score\n",
    "def filter_twitter_data(twitter_data, finance_data):\n",
    "    daily_sentiment = np.zeros_like(finance_data,dtype=object)\n",
    "    for i in range(len(finance_data)):\n",
    "        date = finance_data[i,0]\n",
    "        sentiment = twitter_data[np.where(twitter_data[:,0] == date)]\n",
    "        average_sentiment = np.mean(sentiment[:,1])\n",
    "        daily_sentiment[i,0] = date\n",
    "        daily_sentiment[i,1] = average_sentiment\n",
    "    return daily_sentiment\n",
    "\n",
    "# Calculates the percentage change in sentiment\n",
    "def score_percent_change(scores):\n",
    "    final = np.zeros_like(scores)\n",
    "    final[0,0], final[0,1] = scores[0,0], 0\n",
    "    for i in range(1,len(scores)):\n",
    "        final[i,0] = scores[i,0]\n",
    "        try:\n",
    "            final[i,1] = (scores[i,1]-scores[i-1,1])/scores[i-1,1]\n",
    "        except:\n",
    "            final[i,1] = 0\n",
    "    return final\n",
    "\n"
   ]
  },
  {
   "cell_type": "code",
   "execution_count": 5,
   "metadata": {},
   "outputs": [],
   "source": [
    "import pandas as pd\n",
    "import numpy as np\n",
    "\n",
    "# Prepares the data\n",
    "data = pd.read_csv('finance-data/finance-data.csv')\n",
    "data = data['ticker'].values\n",
    "companies = list(np.unique(data))\n",
    "companies.remove('CAT')"
   ]
  },
  {
   "cell_type": "code",
   "execution_count": 6,
   "metadata": {},
   "outputs": [
    {
     "name": "stderr",
     "output_type": "stream",
     "text": [
      "/home/pstance/anaconda3/lib/python3.6/site-packages/numpy/core/fromnumeric.py:2957: RuntimeWarning: Mean of empty slice.\n",
      "  out=out, **kwargs)\n",
      "/home/pstance/anaconda3/lib/python3.6/site-packages/numpy/core/_methods.py:80: RuntimeWarning: invalid value encountered in true_divide\n",
      "  ret = ret.dtype.type(ret / rcount)\n",
      "/home/pstance/anaconda3/lib/python3.6/site-packages/ipykernel_launcher.py:17: RuntimeWarning: divide by zero encountered in double_scalars\n"
     ]
    }
   ],
   "source": [
    "import csv\n",
    "\n",
    "# Final preparations for the granger test to be run in a R kernel\n",
    "for company in companies:\n",
    "    twitter_data = get_twitter_data(company)\n",
    "    finance_data = get_daily_percent_change(company)\n",
    "\n",
    "    scores = filter_twitter_data(twitter_data, finance_data)\n",
    "    scores = scores[:len(scores)-1]\n",
    "    scores = score_percent_change(scores)\n",
    "    finance_data = finance_data[:len(finance_data)-1]\n",
    "\n",
    "    fp = open('analysis/{}.csv'.format(company),'w')\n",
    "    writer = csv.writer(fp)\n",
    "    for i in range(len(scores)):\n",
    "        row = [finance_data[i,0], finance_data[i,1], scores[i, 1]]\n",
    "        writer.writerow(row)\n",
    "    fp.close()"
   ]
  }
 ],
 "metadata": {
  "kernelspec": {
   "display_name": "Python 3",
   "language": "python",
   "name": "python3"
  },
  "language_info": {
   "codemirror_mode": {
    "name": "ipython",
    "version": 3
   },
   "file_extension": ".py",
   "mimetype": "text/x-python",
   "name": "python",
   "nbconvert_exporter": "python",
   "pygments_lexer": "ipython3",
   "version": "3.6.4"
  }
 },
 "nbformat": 4,
 "nbformat_minor": 2
}
